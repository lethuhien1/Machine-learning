{
 "cells": [
  {
   "cell_type": "code",
   "execution_count": 1,
   "id": "490cf9ba",
   "metadata": {},
   "outputs": [
    {
     "data": {
      "text/html": [
       "<div>\n",
       "<style scoped>\n",
       "    .dataframe tbody tr th:only-of-type {\n",
       "        vertical-align: middle;\n",
       "    }\n",
       "\n",
       "    .dataframe tbody tr th {\n",
       "        vertical-align: top;\n",
       "    }\n",
       "\n",
       "    .dataframe thead th {\n",
       "        text-align: right;\n",
       "    }\n",
       "</style>\n",
       "<table border=\"1\" class=\"dataframe\">\n",
       "  <thead>\n",
       "    <tr style=\"text-align: right;\">\n",
       "      <th></th>\n",
       "      <th>Diện tích</th>\n",
       "      <th>Giá</th>\n",
       "    </tr>\n",
       "  </thead>\n",
       "  <tbody>\n",
       "    <tr>\n",
       "      <th>0</th>\n",
       "      <td>30.0000</td>\n",
       "      <td>448.524</td>\n",
       "    </tr>\n",
       "    <tr>\n",
       "      <th>1</th>\n",
       "      <td>32.4138</td>\n",
       "      <td>509.248</td>\n",
       "    </tr>\n",
       "    <tr>\n",
       "      <th>2</th>\n",
       "      <td>34.8276</td>\n",
       "      <td>535.104</td>\n",
       "    </tr>\n",
       "    <tr>\n",
       "      <th>3</th>\n",
       "      <td>37.2414</td>\n",
       "      <td>551.432</td>\n",
       "    </tr>\n",
       "    <tr>\n",
       "      <th>4</th>\n",
       "      <td>39.6552</td>\n",
       "      <td>623.418</td>\n",
       "    </tr>\n",
       "    <tr>\n",
       "      <th>5</th>\n",
       "      <td>42.0690</td>\n",
       "      <td>625.992</td>\n",
       "    </tr>\n",
       "    <tr>\n",
       "      <th>6</th>\n",
       "      <td>44.4828</td>\n",
       "      <td>655.248</td>\n",
       "    </tr>\n",
       "    <tr>\n",
       "      <th>7</th>\n",
       "      <td>46.8966</td>\n",
       "      <td>701.377</td>\n",
       "    </tr>\n",
       "    <tr>\n",
       "      <th>8</th>\n",
       "      <td>49.3103</td>\n",
       "      <td>748.918</td>\n",
       "    </tr>\n",
       "    <tr>\n",
       "      <th>9</th>\n",
       "      <td>51.7241</td>\n",
       "      <td>757.881</td>\n",
       "    </tr>\n",
       "    <tr>\n",
       "      <th>10</th>\n",
       "      <td>54.1379</td>\n",
       "      <td>831.004</td>\n",
       "    </tr>\n",
       "    <tr>\n",
       "      <th>11</th>\n",
       "      <td>56.5517</td>\n",
       "      <td>855.409</td>\n",
       "    </tr>\n",
       "    <tr>\n",
       "      <th>12</th>\n",
       "      <td>58.9655</td>\n",
       "      <td>866.707</td>\n",
       "    </tr>\n",
       "    <tr>\n",
       "      <th>13</th>\n",
       "      <td>61.3793</td>\n",
       "      <td>902.545</td>\n",
       "    </tr>\n",
       "    <tr>\n",
       "      <th>14</th>\n",
       "      <td>63.7931</td>\n",
       "      <td>952.261</td>\n",
       "    </tr>\n",
       "    <tr>\n",
       "      <th>15</th>\n",
       "      <td>66.2069</td>\n",
       "      <td>995.531</td>\n",
       "    </tr>\n",
       "    <tr>\n",
       "      <th>16</th>\n",
       "      <td>68.6207</td>\n",
       "      <td>1069.780</td>\n",
       "    </tr>\n",
       "    <tr>\n",
       "      <th>17</th>\n",
       "      <td>71.0345</td>\n",
       "      <td>1074.420</td>\n",
       "    </tr>\n",
       "    <tr>\n",
       "      <th>18</th>\n",
       "      <td>73.4483</td>\n",
       "      <td>1103.880</td>\n",
       "    </tr>\n",
       "    <tr>\n",
       "      <th>19</th>\n",
       "      <td>75.8621</td>\n",
       "      <td>1138.690</td>\n",
       "    </tr>\n",
       "    <tr>\n",
       "      <th>20</th>\n",
       "      <td>78.2759</td>\n",
       "      <td>1153.130</td>\n",
       "    </tr>\n",
       "    <tr>\n",
       "      <th>21</th>\n",
       "      <td>80.6897</td>\n",
       "      <td>1240.270</td>\n",
       "    </tr>\n",
       "    <tr>\n",
       "      <th>22</th>\n",
       "      <td>83.1034</td>\n",
       "      <td>1251.900</td>\n",
       "    </tr>\n",
       "    <tr>\n",
       "      <th>23</th>\n",
       "      <td>85.5172</td>\n",
       "      <td>1287.970</td>\n",
       "    </tr>\n",
       "    <tr>\n",
       "      <th>24</th>\n",
       "      <td>87.9310</td>\n",
       "      <td>1320.470</td>\n",
       "    </tr>\n",
       "    <tr>\n",
       "      <th>25</th>\n",
       "      <td>90.3448</td>\n",
       "      <td>1374.920</td>\n",
       "    </tr>\n",
       "    <tr>\n",
       "      <th>26</th>\n",
       "      <td>92.7586</td>\n",
       "      <td>1410.160</td>\n",
       "    </tr>\n",
       "    <tr>\n",
       "      <th>27</th>\n",
       "      <td>95.1724</td>\n",
       "      <td>1469.690</td>\n",
       "    </tr>\n",
       "    <tr>\n",
       "      <th>28</th>\n",
       "      <td>97.5862</td>\n",
       "      <td>1478.540</td>\n",
       "    </tr>\n",
       "    <tr>\n",
       "      <th>29</th>\n",
       "      <td>100.0000</td>\n",
       "      <td>1515.280</td>\n",
       "    </tr>\n",
       "  </tbody>\n",
       "</table>\n",
       "</div>"
      ],
      "text/plain": [
       "    Diện tích       Giá\n",
       "0     30.0000   448.524\n",
       "1     32.4138   509.248\n",
       "2     34.8276   535.104\n",
       "3     37.2414   551.432\n",
       "4     39.6552   623.418\n",
       "5     42.0690   625.992\n",
       "6     44.4828   655.248\n",
       "7     46.8966   701.377\n",
       "8     49.3103   748.918\n",
       "9     51.7241   757.881\n",
       "10    54.1379   831.004\n",
       "11    56.5517   855.409\n",
       "12    58.9655   866.707\n",
       "13    61.3793   902.545\n",
       "14    63.7931   952.261\n",
       "15    66.2069   995.531\n",
       "16    68.6207  1069.780\n",
       "17    71.0345  1074.420\n",
       "18    73.4483  1103.880\n",
       "19    75.8621  1138.690\n",
       "20    78.2759  1153.130\n",
       "21    80.6897  1240.270\n",
       "22    83.1034  1251.900\n",
       "23    85.5172  1287.970\n",
       "24    87.9310  1320.470\n",
       "25    90.3448  1374.920\n",
       "26    92.7586  1410.160\n",
       "27    95.1724  1469.690\n",
       "28    97.5862  1478.540\n",
       "29   100.0000  1515.280"
      ]
     },
     "execution_count": 1,
     "metadata": {},
     "output_type": "execute_result"
    }
   ],
   "source": [
    "import numpy as np\n",
    "import pandas as pd\n",
    "import matplotlib.pylab as plt\n",
    "data = pd.read_csv('https://raw.githubusercontent.com/nttuan8/DL_Tutorial/master/L1/data_linear.csv')\n",
    "data"
   ]
  },
  {
   "cell_type": "code",
   "execution_count": 2,
   "id": "850cb3d6",
   "metadata": {},
   "outputs": [],
   "source": [
    "x=np.array(data['Diện tích'])\n",
    "y=np.array(data['Giá'])"
   ]
  },
  {
   "cell_type": "code",
   "execution_count": 3,
   "id": "f31e27ab",
   "metadata": {},
   "outputs": [
    {
     "data": {
      "image/png": "[encoded data removed]",
      "text/plain": [
       "<Figure size 432x288 with 1 Axes>"
      ]
     },
     "metadata": {
      "needs_background": "light"
     },
     "output_type": "display_data"
    }
   ],
   "source": [
    "plt.xlabel('Area')\n",
    "plt.ylabel('Price')\n",
    "plt.plot(x, y, 'bo')\n",
    "plt.show()"
   ]
  },
  {
   "cell_type": "code",
   "execution_count": 6,
   "id": "3234e609",
   "metadata": {},
   "outputs": [],
   "source": [
    "x = np.array([x]).T\n",
    "y = np.array([y]).T"
   ]
  },
  {
   "cell_type": "code",
   "execution_count": 7,
   "id": "44dff386",
   "metadata": {},
   "outputs": [
    {
     "data": {
      "text/plain": [
       "array([[1.],\n",
       "       [1.],\n",
       "       [1.],\n",
       "       [1.],\n",
       "       [1.],\n",
       "       [1.],\n",
       "       [1.],\n",
       "       [1.],\n",
       "       [1.],\n",
       "       [1.],\n",
       "       [1.],\n",
       "       [1.],\n",
       "       [1.],\n",
       "       [1.],\n",
       "       [1.],\n",
       "       [1.],\n",
       "       [1.],\n",
       "       [1.],\n",
       "       [1.],\n",
       "       [1.],\n",
       "       [1.],\n",
       "       [1.],\n",
       "       [1.],\n",
       "       [1.],\n",
       "       [1.],\n",
       "       [1.],\n",
       "       [1.],\n",
       "       [1.],\n",
       "       [1.],\n",
       "       [1.]])"
      ]
     },
     "execution_count": 7,
     "metadata": {},
     "output_type": "execute_result"
    }
   ],
   "source": [
    "one = np.ones((x.shape[0], 1))\n",
    "one"
   ]
  },
  {
   "cell_type": "code",
   "execution_count": 14,
   "id": "be08fad8",
   "metadata": {},
   "outputs": [
    {
     "name": "stdout",
     "output_type": "stream",
     "text": [
      "w =  [[-7.06426865]\n",
      " [15.2110908 ]]\n"
     ]
    },
    {
     "data": {
      "image/png": "[encoded data removed]",
      "text/plain": [
       "<Figure size 432x288 with 1 Axes>"
      ]
     },
     "metadata": {
      "needs_background": "light"
     },
     "output_type": "display_data"
    }
   ],
   "source": [
    "Xbar = np.concatenate((one, x), axis = 1)\n",
    "A = np.dot(Xbar.T, Xbar)\n",
    "b = np.dot(Xbar.T, y)\n",
    "w = np.dot(np.linalg.pinv(A), b)\n",
    "print('w = ', w)\n",
    "w_0 = w[0][0]\n",
    "w_1 = w[1][0]\n",
    "x0 = np.linspace(30,100,2) \n",
    "y0 = w_0 + w_1*x0\n",
    "plt.plot(x.T, y.T, 'bo')\n",
    "plt.plot(x0, y0, 'r')  \n",
    "plt.xlabel('Area')\n",
    "plt.ylabel('Price')\n",
    "plt.show()"
   ]
  },
  {
   "cell_type": "code",
   "execution_count": 15,
   "id": "cc2718ba",
   "metadata": {},
   "outputs": [],
   "source": [
    "def predict(number):\n",
    "    house_price = w_1 * number + w_0\n",
    "    return house_price"
   ]
  },
  {
   "cell_type": "code",
   "execution_count": 16,
   "id": "878870b3",
   "metadata": {},
   "outputs": [
    {
     "data": {
      "text/plain": [
       "753.4902713382899"
      ]
     },
     "execution_count": 16,
     "metadata": {},
     "output_type": "execute_result"
    }
   ],
   "source": [
    "predict(50)"
   ]
  },
  {
   "cell_type": "code",
   "execution_count": 17,
   "id": "324191f0",
   "metadata": {},
   "outputs": [
    {
     "data": {
      "text/plain": [
       "1514.0448113217808"
      ]
     },
     "execution_count": 17,
     "metadata": {},
     "output_type": "execute_result"
    }
   ],
   "source": [
    "predict(100)"
   ]
  },
  {
   "cell_type": "code",
   "execution_count": 18,
   "id": "0c6bb883",
   "metadata": {},
   "outputs": [
    {
     "data": {
      "text/plain": [
       "2274.5993513052717"
      ]
     },
     "execution_count": 18,
     "metadata": {},
     "output_type": "execute_result"
    }
   ],
   "source": [
    "predict(150)"
   ]
  }
 ],
 "metadata": {
  "kernelspec": {
   "display_name": "Python 3",
   "language": "python",
   "name": "python3"
  },
  "language_info": {
   "codemirror_mode": {
    "name": "ipython",
    "version": 3
   },
   "file_extension": ".py",
   "mimetype": "text/x-python",
   "name": "python",
   "nbconvert_exporter": "python",
   "pygments_lexer": "ipython3",
   "version": "3.8.8"
  }
 },
 "nbformat": 4,
 "nbformat_minor": 5
}
